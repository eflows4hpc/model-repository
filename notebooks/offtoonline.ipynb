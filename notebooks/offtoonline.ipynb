{
 "cells": [
  {
   "cell_type": "code",
   "execution_count": 247,
   "id": "5f914dcb",
   "metadata": {},
   "outputs": [],
   "source": [
    "import mlflow\n",
    "import mlflow.pytorch\n",
    "import tempfile"
   ]
  },
  {
   "cell_type": "code",
   "execution_count": null,
   "id": "cfe87dd9",
   "metadata": {},
   "outputs": [],
   "source": [
    "mlrun = './mlruns/0/'"
   ]
  },
  {
   "cell_type": "code",
   "execution_count": null,
   "id": "0fce3f55",
   "metadata": {},
   "outputs": [],
   "source": [
    "! ls ./mlruns/0"
   ]
  },
  {
   "cell_type": "code",
   "execution_count": null,
   "id": "c40b9228",
   "metadata": {},
   "outputs": [],
   "source": [
    "import yaml\n",
    "import os\n",
    "import glob"
   ]
  },
  {
   "cell_type": "code",
   "execution_count": null,
   "id": "a1753db5",
   "metadata": {},
   "outputs": [],
   "source": [
    "with open(os.path.join(mlrun, 'meta.yaml'), 'r') as f:\n",
    "    meta = yaml.safe_load(f)"
   ]
  },
  {
   "cell_type": "code",
   "execution_count": null,
   "id": "28c08ba6",
   "metadata": {},
   "outputs": [],
   "source": [
    "meta"
   ]
  },
  {
   "cell_type": "code",
   "execution_count": null,
   "id": "21aa3663",
   "metadata": {},
   "outputs": [],
   "source": [
    "glob.glob(os.path.join(mlrun, '*'))"
   ]
  },
  {
   "cell_type": "code",
   "execution_count": null,
   "id": "54a4603d",
   "metadata": {},
   "outputs": [],
   "source": [
    "rundir = './mlruns/0/f63a82ab86524a7c8708310d61c54431/'"
   ]
  },
  {
   "cell_type": "code",
   "execution_count": null,
   "id": "338160dd",
   "metadata": {},
   "outputs": [],
   "source": [
    "glob.glob(rundir)"
   ]
  },
  {
   "cell_type": "code",
   "execution_count": null,
   "id": "8a48234f",
   "metadata": {},
   "outputs": [],
   "source": [
    "with open(os.path.join(rundir, 'meta.yaml'), 'r') as f:\n",
    "    runmeta = yaml.safe_load(f)"
   ]
  },
  {
   "cell_type": "code",
   "execution_count": null,
   "id": "f373e916",
   "metadata": {},
   "outputs": [],
   "source": [
    "runmeta"
   ]
  },
  {
   "cell_type": "code",
   "execution_count": null,
   "id": "e31fad4d",
   "metadata": {},
   "outputs": [],
   "source": [
    "! ls ./mlruns/0/f63a82ab86524a7c8708310d61c54431/artifacts/path/data/"
   ]
  },
  {
   "cell_type": "code",
   "execution_count": null,
   "id": "439e7924",
   "metadata": {},
   "outputs": [],
   "source": [
    "def read_params(run_path: str):\n",
    "    params = dict()\n",
    "    for paramName in glob.glob(os.path.join(run_path, 'params/*')):\n",
    "        print(paramName)\n",
    "        with open(paramName, 'r') as f:\n",
    "            value = f.read()\n",
    "        params[os.path.basename(paramName)]=value\n",
    "    return params"
   ]
  },
  {
   "cell_type": "code",
   "execution_count": null,
   "id": "2cd1efc9",
   "metadata": {},
   "outputs": [],
   "source": [
    "read_params(run_path='./mlruns/0/f63a82ab86524a7c8708310d61c54431')"
   ]
  },
  {
   "cell_type": "markdown",
   "id": "3a441972",
   "metadata": {},
   "source": [
    "## using client"
   ]
  },
  {
   "cell_type": "code",
   "execution_count": null,
   "id": "593ad1ef",
   "metadata": {},
   "outputs": [],
   "source": [
    "# get_run(run_id: str) \n",
    "from mlflow.client import MlflowClient"
   ]
  },
  {
   "cell_type": "code",
   "execution_count": 142,
   "id": "88453dd4",
   "metadata": {},
   "outputs": [],
   "source": [
    "import mlflow.pytorch\n",
    "\n",
    "import mlflow.onnx"
   ]
  },
  {
   "cell_type": "code",
   "execution_count": null,
   "id": "8a04ca25",
   "metadata": {},
   "outputs": [],
   "source": [
    "local_client = MlflowClient()"
   ]
  },
  {
   "cell_type": "code",
   "execution_count": 85,
   "id": "5683e264",
   "metadata": {},
   "outputs": [],
   "source": [
    "experiment = local_client.get_experiment(experiment_id='0')"
   ]
  },
  {
   "cell_type": "code",
   "execution_count": 124,
   "id": "476c967a",
   "metadata": {},
   "outputs": [],
   "source": [
    "runs = local_client.search_runs(experiment_ids=[experiment.experiment_id]) #, order_by='start_time DESC'"
   ]
  },
  {
   "cell_type": "code",
   "execution_count": 125,
   "id": "63e17c8c",
   "metadata": {},
   "outputs": [
    {
     "name": "stdout",
     "output_type": "stream",
     "text": [
      "e10f5cc7f8c44f079fd8214d4f14b840\n",
      "7d8add9e6d6b424e9aef34c3a8b84c56\n",
      "fba2fecd08e4444098a0a9b81c8759d7\n",
      "21fe09e3049a4ef491b32124041ba10d\n",
      "f63a82ab86524a7c8708310d61c54431\n",
      "943e0331574c496a8d4133039c547f57\n",
      "faad19c43a20438ba1d392957ac870be\n",
      "6f85e591e09a42dcbc225539359fca23\n",
      "a4217081db4d41c9b4c2deb2844f44a1\n",
      "481dcf3917214c4e8b2d5ff94244d168\n",
      "5eca6cb9aa0f452a8991f444a8dccc8f\n",
      "ae450efcf5114dc1b2fecbc129107c4b\n",
      "ea63cb7ec24d4ca0a63c3094dfa5c5e7\n",
      "2b2ab36e96c0465f8e00362e0d3f8d2e\n",
      "1e6c9f06033343a79b6c26c397fb3cba\n",
      "7f2fd88ec2f9435faca1bcc0e803ac92\n",
      "489269e357cc4ecb8a9411b2b9310f31\n",
      "e6a42d424a7640daac859de008c62490\n",
      "3d787a300d6a4cf7bd5bfee483baf2ba\n"
     ]
    }
   ],
   "source": [
    "for run in runs:\n",
    "    print(run.info.run_id)"
   ]
  },
  {
   "cell_type": "code",
   "execution_count": 126,
   "id": "f6664065",
   "metadata": {},
   "outputs": [],
   "source": [
    "r = runs[0]"
   ]
  },
  {
   "cell_type": "code",
   "execution_count": 115,
   "id": "17935771",
   "metadata": {},
   "outputs": [],
   "source": [
    "# client.log_batch"
   ]
  },
  {
   "cell_type": "code",
   "execution_count": 129,
   "id": "9457eb20",
   "metadata": {},
   "outputs": [
    {
     "data": {
      "text/plain": [
       "'e10f5cc7f8c44f079fd8214d4f14b840'"
      ]
     },
     "execution_count": 129,
     "metadata": {},
     "output_type": "execute_result"
    }
   ],
   "source": [
    "r.info.run_id"
   ]
  },
  {
   "cell_type": "code",
   "execution_count": 130,
   "id": "13e9bb17",
   "metadata": {},
   "outputs": [],
   "source": []
  },
  {
   "cell_type": "code",
   "execution_count": 131,
   "id": "e8e21e2c",
   "metadata": {},
   "outputs": [
    {
     "data": {
      "text/plain": [
       "{}"
      ]
     },
     "execution_count": 131,
     "metadata": {},
     "output_type": "execute_result"
    }
   ],
   "source": [
    "r.data.params"
   ]
  },
  {
   "cell_type": "code",
   "execution_count": 132,
   "id": "2357e5cb",
   "metadata": {},
   "outputs": [
    {
     "data": {
      "text/plain": [
       "'file:///home/jj/git/modelrepository/notebooks/mlruns/0/e10f5cc7f8c44f079fd8214d4f14b840/artifacts'"
      ]
     },
     "execution_count": 132,
     "metadata": {},
     "output_type": "execute_result"
    }
   ],
   "source": [
    "r.info.artifact_uri"
   ]
  },
  {
   "cell_type": "code",
   "execution_count": 135,
   "id": "579a541d",
   "metadata": {},
   "outputs": [
    {
     "name": "stdout",
     "output_type": "stream",
     "text": [
      "conda.yaml  data  MLmodel  python_env.yaml  requirements.txt\r\n"
     ]
    }
   ],
   "source": [
    "! ls /home/jj/git/modelrepository/notebooks/mlruns/0/e10f5cc7f8c44f079fd8214d4f14b840/artifacts/"
   ]
  },
  {
   "cell_type": "code",
   "execution_count": 89,
   "id": "4f96d983",
   "metadata": {},
   "outputs": [],
   "source": [
    "# this does not work\n",
    "#local_client.get_registered_model(name='suave-cat-581')\n",
    "#local_client.search_registered_models()"
   ]
  },
  {
   "cell_type": "code",
   "execution_count": 158,
   "id": "f3213cd8",
   "metadata": {},
   "outputs": [
    {
     "data": {
      "text/plain": [
       "<Run: data=<RunData: metrics={}, params={}, tags={'mlflow.log-model.history': '[{\"run_id\": \"e10f5cc7f8c44f079fd8214d4f14b840\", '\n",
       "                             '\"artifact_path\": \"\", \"utc_time_created\": '\n",
       "                             '\"2022-11-02 10:03:15.314602\", \"flavors\": '\n",
       "                             '{\"pytorch\": {\"model_data\": \"data\", '\n",
       "                             '\"pytorch_version\": \"1.11.0+cu102\", \"code\": '\n",
       "                             'null}, \"python_function\": {\"pickle_module_name\": '\n",
       "                             '\"mlflow.pytorch.pickle_module\", \"loader_module\": '\n",
       "                             '\"mlflow.pytorch\", \"python_version\": \"3.10.6\", '\n",
       "                             '\"data\": \"data\", \"env\": \"conda.yaml\"}}, '\n",
       "                             '\"model_uuid\": '\n",
       "                             '\"f4cc3196224b482ca49f503c49485c98\", '\n",
       "                             '\"mlflow_version\": \"1.30.0\"}]',\n",
       " 'mlflow.runName': 'burly-turtle-743',\n",
       " 'mlflow.source.name': '/home/jj/anaconda3/envs/wheat/lib/python3.10/site-packages/ipykernel_launcher.py',\n",
       " 'mlflow.source.type': 'LOCAL',\n",
       " 'mlflow.user': 'jj'}>, info=<RunInfo: artifact_uri='file:///home/jj/git/modelrepository/notebooks/mlruns/0/e10f5cc7f8c44f079fd8214d4f14b840/artifacts', end_time=None, experiment_id='0', lifecycle_stage='active', run_id='e10f5cc7f8c44f079fd8214d4f14b840', run_name='burly-turtle-743', run_uuid='e10f5cc7f8c44f079fd8214d4f14b840', start_time=1667383395311, status='RUNNING', user_id='jj'>>"
      ]
     },
     "execution_count": 158,
     "metadata": {},
     "output_type": "execute_result"
    }
   ],
   "source": [
    "r.par"
   ]
  },
  {
   "cell_type": "code",
   "execution_count": 139,
   "id": "5142d438",
   "metadata": {},
   "outputs": [],
   "source": [
    "a_model = mlflow.pytorch.load_model(r.info.artifact_uri)"
   ]
  },
  {
   "cell_type": "code",
   "execution_count": 140,
   "id": "c6099f1c",
   "metadata": {},
   "outputs": [
    {
     "data": {
      "text/plain": [
       "SimpleNet(\n",
       "  (l1): Linear(in_features=784, out_features=10, bias=True)\n",
       ")"
      ]
     },
     "execution_count": 140,
     "metadata": {},
     "output_type": "execute_result"
    }
   ],
   "source": [
    "a_model"
   ]
  },
  {
   "cell_type": "code",
   "execution_count": 257,
   "id": "da4087cd",
   "metadata": {},
   "outputs": [],
   "source": [
    "remote_client.create_run?"
   ]
  },
  {
   "cell_type": "code",
   "execution_count": 249,
   "id": "76939b31",
   "metadata": {},
   "outputs": [
    {
     "data": {
      "text/plain": [
       "[<Experiment: artifact_location='file:///home/jj/git/modelrepository/notebooks/mlruns/0', creation_time=None, experiment_id='0', last_update_time=None, lifecycle_stage='active', name='Default', tags={}>]"
      ]
     },
     "execution_count": 249,
     "metadata": {},
     "output_type": "execute_result"
    }
   ],
   "source": [
    "local_client.search_experiments()"
   ]
  },
  {
   "cell_type": "code",
   "execution_count": 165,
   "id": "9b0c0320",
   "metadata": {},
   "outputs": [],
   "source": [
    "experiments_ids = [exp.experiment_id for exp in experiments]"
   ]
  },
  {
   "cell_type": "code",
   "execution_count": null,
   "id": "c85f9616",
   "metadata": {},
   "outputs": [
    {
     "name": "stdout",
     "output_type": "stream",
     "text": [
      "Processing experiment  0 Default\n",
      "Experiment exists\n",
      "Remote experiment id 0\n",
      "Processing run: 8fe114316a26460aa2e463b8944cf230 -> 9847970ab991461394d6d1405f9ef2e6\n",
      "Params: {}\n",
      "created temporary directory /tmp/tmpsy03fsvu\n",
      "----------\n",
      "Processing run: e10f5cc7f8c44f079fd8214d4f14b840 -> 9a7aaf4d2cb6424c9151edf3e60400b2\n",
      "Params: {}\n",
      "created temporary directory /tmp/tmpose2v5ae\n",
      "----------\n"
     ]
    }
   ],
   "source": [
    "\n",
    "for experiment in local_client.search_experiments():\n",
    "    print('Processing experiment ', experiment.experiment_id, experiment.name)\n",
    "    \n",
    "    #check if it already exists:\n",
    "    lst = remote_client.search_experiments(filter_string=f\"name = '{experiment.name}'\")\n",
    "    if not lst:\n",
    "        print(\"Creating experiment\")\n",
    "        remote_id = remote_client.create_experiment(experiment.name)#, artifact_location='http://localhost:5000/')\n",
    "         \n",
    "    else:\n",
    "        print(\"Experiment exists\")\n",
    "        remote_id = lst[0].experiment_id\n",
    "        \n",
    "    print(\"Remote experiment id\", remote_id)\n",
    "\n",
    "    runs = local_client.search_runs(experiment_ids=[experiment.experiment_id])\n",
    "\n",
    "    for run in runs:\n",
    "        remote_run = remote_client.create_run(experiment_id=remote_id, start_time=run.info.start_time)\n",
    "\n",
    "        remote_run_id = remote_run.info.run_id\n",
    "        print('Processing run:', run.info.run_id, '->', remote_run_id)\n",
    "\n",
    "        for metric in run.data.metrics:\n",
    "            metric_history = local_client.get_metric_history(run_id=run.info.run_id, key=metric)\n",
    "            print(f\"Got metric history for {metric} length={len(metric_history)}\")\n",
    "            remote_client.log_batch(run_id=remote_run_id, metrics=metric_history)\n",
    "\n",
    "        \n",
    "        print('Params:', run.data.params)\n",
    "        for n,v in run.data.params.items():\n",
    "            remote_client.log_param(run_id=remote_run_id, key=n, value=v)\n",
    "        \n",
    "        #tags if any?\n",
    "\n",
    "        artifacts = local_client.list_artifacts(run_id=run.info.run_id)\n",
    "        #mlflow.set_tracking_uri('http://localhost:5000')\n",
    "        with tempfile.TemporaryDirectory() as tmpdirname:\n",
    "            print('created temporary directory', tmpdirname)\n",
    "            for art in artifacts:\n",
    "                local_client.download_artifacts(run_id=run.info.run_id, path=art.path, dst_path=tmpdirname)\n",
    "                remote_client.log_artifact(run_id=remote_run_id, local_path=os.path.join(tmpdirname, art.path))\n",
    "\n",
    "\n",
    "        remote_client.set_terminated(remote_run_id)\n",
    "        print('-'*10)"
   ]
  },
  {
   "cell_type": "code",
   "execution_count": 260,
   "id": "80c91e90",
   "metadata": {},
   "outputs": [
    {
     "data": {
      "text/plain": [
       "1666599144446"
      ]
     },
     "execution_count": 260,
     "metadata": {},
     "output_type": "execute_result"
    }
   ],
   "source": [
    "run.info.start_time"
   ]
  },
  {
   "cell_type": "raw",
   "id": "35588bbb",
   "metadata": {},
   "source": [
    "models = [run.info.artifact_uri for art in artifacts if art.path.startswith('MLmodel')]\n",
    "        if any(models):\n",
    "            a_model = mlflow.pytorch.load_model(models[0])\n",
    "            print('Got model path', models, a_model)"
   ]
  },
  {
   "cell_type": "code",
   "execution_count": 188,
   "id": "b86133d7",
   "metadata": {},
   "outputs": [
    {
     "data": {
      "text/plain": [
       "{'name': 'resnet18.onnx', 'input_shape': '[3, 256, 256]'}"
      ]
     },
     "execution_count": 188,
     "metadata": {},
     "output_type": "execute_result"
    }
   ],
   "source": [
    "run.data.params"
   ]
  },
  {
   "cell_type": "markdown",
   "id": "937d5976",
   "metadata": {},
   "source": [
    "## remote client"
   ]
  },
  {
   "cell_type": "code",
   "execution_count": 169,
   "id": "eff6efa4",
   "metadata": {},
   "outputs": [],
   "source": [
    "remote_client = MlflowClient(tracking_uri='http://localhost:5000', registry_uri='http://localhost:5000')"
   ]
  },
  {
   "cell_type": "code",
   "execution_count": 170,
   "id": "7ef6af70",
   "metadata": {},
   "outputs": [
    {
     "data": {
      "text/plain": [
       "[<Experiment: artifact_location='mlflow-artifacts:/1', creation_time=1666764720738, experiment_id='1', last_update_time=1666764720738, lifecycle_stage='active', name='remote2', tags={}>,\n",
       " <Experiment: artifact_location='mlflow-artifacts:/0', creation_time=1666764686924, experiment_id='0', last_update_time=1666764686924, lifecycle_stage='active', name='Default', tags={}>]"
      ]
     },
     "execution_count": 170,
     "metadata": {},
     "output_type": "execute_result"
    }
   ],
   "source": [
    "remote_client.search_experiments()"
   ]
  },
  {
   "cell_type": "code",
   "execution_count": 172,
   "id": "ddf23daf",
   "metadata": {},
   "outputs": [
    {
     "data": {
      "text/plain": [
       "[<Run: data=<RunData: metrics={}, params={}, tags={'mlflow.runName': 'auspicious-robin-946',\n",
       "  'mlflow.source.git.commit': 'c95646ed5e23819cabe2538fc3a5e2cf5d7e179d',\n",
       "  'mlflow.source.name': 'tt.py',\n",
       "  'mlflow.source.type': 'LOCAL',\n",
       "  'mlflow.user': 'jj'}>, info=<RunInfo: artifact_uri='mlflow-artifacts:/0/8101f3a0310f4fcb84b4b8fc104cac10/artifacts', end_time=1666764720799, experiment_id='0', lifecycle_stage='active', run_id='8101f3a0310f4fcb84b4b8fc104cac10', run_name='auspicious-robin-946', run_uuid='8101f3a0310f4fcb84b4b8fc104cac10', start_time=1666764720419, status='FINISHED', user_id='jj'>>]"
      ]
     },
     "execution_count": 172,
     "metadata": {},
     "output_type": "execute_result"
    }
   ],
   "source": [
    "remote_client.search_runs(experiment_ids=[0])"
   ]
  },
  {
   "cell_type": "code",
   "execution_count": 173,
   "id": "46d65ad8",
   "metadata": {},
   "outputs": [],
   "source": [
    "remote_client.log_batch?"
   ]
  },
  {
   "cell_type": "code",
   "execution_count": 180,
   "id": "9bc2437b",
   "metadata": {},
   "outputs": [],
   "source": [
    "remote_client.search_experiments?"
   ]
  },
  {
   "cell_type": "code",
   "execution_count": 185,
   "id": "3835ea9c",
   "metadata": {},
   "outputs": [
    {
     "data": {
      "text/plain": [
       "[<Experiment: artifact_location='mlflow-artifacts:/0', creation_time=1666764686924, experiment_id='0', last_update_time=1666764686924, lifecycle_stage='active', name='Default', tags={}>]"
      ]
     },
     "execution_count": 185,
     "metadata": {},
     "output_type": "execute_result"
    }
   ],
   "source": [
    "remote_client.search_experiments(filter_string=\"name = 'Default'\")"
   ]
  },
  {
   "cell_type": "code",
   "execution_count": 187,
   "id": "8e6b2c88",
   "metadata": {},
   "outputs": [
    {
     "data": {
      "text/plain": [
       "<Run: data=<RunData: metrics={}, params={}, tags={'mlflow.runName': 'adventurous-ant-385'}>, info=<RunInfo: artifact_uri='mlflow-artifacts:/2/9700734f7f34466b95e4569ace7c6f88/artifacts', end_time=None, experiment_id='2', lifecycle_stage='active', run_id='9700734f7f34466b95e4569ace7c6f88', run_name='adventurous-ant-385', run_uuid='9700734f7f34466b95e4569ace7c6f88', start_time=1667458567775, status='RUNNING', user_id='unknown'>>"
      ]
     },
     "execution_count": 187,
     "metadata": {},
     "output_type": "execute_result"
    }
   ],
   "source": [
    "remote_client.create_run(experiment_id='2')\n"
   ]
  },
  {
   "cell_type": "code",
   "execution_count": null,
   "id": "e5d767ab",
   "metadata": {},
   "outputs": [],
   "source": []
  },
  {
   "cell_type": "code",
   "execution_count": 203,
   "id": "8d2885b5",
   "metadata": {},
   "outputs": [],
   "source": [
    "remote_client.log_batch(run_id='9700734f7f34466b95e4569ace7c6f88',metrics=metric_history)"
   ]
  },
  {
   "cell_type": "code",
   "execution_count": null,
   "id": "3a26768e",
   "metadata": {},
   "outputs": [],
   "source": []
  },
  {
   "cell_type": "code",
   "execution_count": 205,
   "id": "65abadce",
   "metadata": {},
   "outputs": [
    {
     "data": {
      "text/plain": [
       "SimpleNet(\n",
       "  (l1): Linear(in_features=784, out_features=10, bias=True)\n",
       ")"
      ]
     },
     "execution_count": 205,
     "metadata": {},
     "output_type": "execute_result"
    }
   ],
   "source": [
    "a_model"
   ]
  },
  {
   "cell_type": "code",
   "execution_count": 209,
   "id": "950a0400",
   "metadata": {},
   "outputs": [],
   "source": [
    "artifacts = local_client.list_artifacts(run_id='e10f5cc7f8c44f079fd8214d4f14b840')"
   ]
  },
  {
   "cell_type": "code",
   "execution_count": 210,
   "id": "c131e49c",
   "metadata": {},
   "outputs": [
    {
     "data": {
      "text/plain": [
       "[<FileInfo: file_size=432, is_dir=False, path='MLmodel'>,\n",
       " <FileInfo: file_size=199, is_dir=False, path='conda.yaml'>,\n",
       " <FileInfo: file_size=None, is_dir=True, path='data'>,\n",
       " <FileInfo: file_size=122, is_dir=False, path='python_env.yaml'>,\n",
       " <FileInfo: file_size=82, is_dir=False, path='requirements.txt'>]"
      ]
     },
     "execution_count": 210,
     "metadata": {},
     "output_type": "execute_result"
    }
   ],
   "source": [
    "artifacts"
   ]
  },
  {
   "cell_type": "code",
   "execution_count": 248,
   "id": "26afbf25",
   "metadata": {},
   "outputs": [
    {
     "name": "stdout",
     "output_type": "stream",
     "text": [
      "created temporary directory /tmp/tmp7eqwu79i\n"
     ]
    }
   ],
   "source": [
    "mlflow.set_tracking_uri('http://localhost:5000')\n",
    "with tempfile.TemporaryDirectory() as tmpdirname:\n",
    "    print('created temporary directory', tmpdirname)\n",
    "    for art in artifacts:\n",
    "        local_client.download_artifacts(run_id='e10f5cc7f8c44f079fd8214d4f14b840', path=art.path, dst_path=tmpdirname)\n",
    "        remote_client.log_artifact(run_id='9700734f7f34466b95e4569ace7c6f88', local_path=os.path.join(tmpdirname, art.path))"
   ]
  },
  {
   "cell_type": "code",
   "execution_count": null,
   "id": "dc63c028",
   "metadata": {},
   "outputs": [],
   "source": []
  }
 ],
 "metadata": {
  "kernelspec": {
   "display_name": "Python 3 (ipykernel)",
   "language": "python",
   "name": "python3"
  },
  "language_info": {
   "codemirror_mode": {
    "name": "ipython",
    "version": 3
   },
   "file_extension": ".py",
   "mimetype": "text/x-python",
   "name": "python",
   "nbconvert_exporter": "python",
   "pygments_lexer": "ipython3",
   "version": "3.10.6"
  }
 },
 "nbformat": 4,
 "nbformat_minor": 5
}
