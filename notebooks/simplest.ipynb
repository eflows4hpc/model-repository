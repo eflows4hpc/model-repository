{
 "cells": [
  {
   "cell_type": "code",
   "execution_count": 1,
   "id": "9888d9d2",
   "metadata": {},
   "outputs": [],
   "source": [
    "import numpy as np\n",
    "from sklearn.linear_model import LogisticRegression\n",
    "\n",
    "import mlflow\n",
    "import mlflow.sklearn\n",
    "\n",
    "import matplotlib.pyplot as plt\n",
    "\n",
    "import warnings\n",
    "warnings.filterwarnings('ignore')"
   ]
  },
  {
   "cell_type": "code",
   "execution_count": 2,
   "id": "80b8d728",
   "metadata": {},
   "outputs": [],
   "source": [
    "mlflow.set_tracking_uri('https://zam10017.zam.kfa-juelich.de/')"
   ]
  },
  {
   "cell_type": "code",
   "execution_count": 3,
   "id": "f1d93fa1",
   "metadata": {},
   "outputs": [],
   "source": [
    "#mlflow.set_tracking_uri('http://0.0.0.0:8080')"
   ]
  },
  {
   "cell_type": "code",
   "execution_count": 4,
   "id": "be2d99b3",
   "metadata": {},
   "outputs": [
    {
     "name": "stderr",
     "output_type": "stream",
     "text": [
      "2023/03/10 08:12:09 INFO mlflow.tracking.fluent: Experiment with name 'mysimple-newest' does not exist. Creating a new experiment.\n"
     ]
    },
    {
     "data": {
      "text/plain": [
       "<Experiment: artifact_location='mlflow-artifacts:/3', creation_time=1678432329268, experiment_id='3', last_update_time=1678432329268, lifecycle_stage='active', name='mysimple-newest', tags={}>"
      ]
     },
     "execution_count": 4,
     "metadata": {},
     "output_type": "execute_result"
    }
   ],
   "source": [
    "mlflow.set_experiment('mysimple-newest')"
   ]
  },
  {
   "cell_type": "code",
   "execution_count": 5,
   "id": "d9601ea6",
   "metadata": {},
   "outputs": [],
   "source": [
    "X = np.array([-2, -1, 0, 1, 2, 1]).reshape(-1, 1)\n",
    "y = np.array([0, 0, 1, 1, 1, 0])"
   ]
  },
  {
   "cell_type": "code",
   "execution_count": 6,
   "id": "afa87aec",
   "metadata": {},
   "outputs": [],
   "source": [
    "mlflow.end_run()"
   ]
  },
  {
   "cell_type": "code",
   "execution_count": 7,
   "id": "e59e2ae7",
   "metadata": {},
   "outputs": [
    {
     "name": "stdout",
     "output_type": "stream",
     "text": [
      "0.01 score: 0.6666666666666666\n",
      "0.21 score: 0.6666666666666666\n",
      "0.41 score: 0.6666666666666666\n",
      "0.61 score: 0.6666666666666666\n",
      "0.81 score: 0.6666666666666666\n"
     ]
    }
   ],
   "source": [
    "\n",
    "for c in range(1,100, 20):\n",
    "    with mlflow.start_run():\n",
    "        C = float(c)/100.0\n",
    "        mlflow.log_param('C', value=C)\n",
    "        lr = LogisticRegression(C=C)\n",
    "        lr.fit(X, y)\n",
    "        score = lr.score(X, y)\n",
    "        print(f\"{C} score: {score}\")\n",
    "        \n",
    "        mlflow.log_metric(\"score\", score)\n",
    "        mlflow.sklearn.log_model(lr, \"model\")"
   ]
  },
  {
   "cell_type": "code",
   "execution_count": 8,
   "id": "657d86bc",
   "metadata": {},
   "outputs": [],
   "source": [
    "my = lr.predict(X)"
   ]
  },
  {
   "cell_type": "code",
   "execution_count": 9,
   "id": "2f5b27cd",
   "metadata": {},
   "outputs": [
    {
     "data": {
      "image/png": "[encoded data removed]",
      "text/plain": [
       "<Figure size 640x480 with 1 Axes>"
      ]
     },
     "metadata": {},
     "output_type": "display_data"
    }
   ],
   "source": [
    "fig, axs = plt.subplots(1)\n",
    "axs.scatter(X, y,c='r', label='data')\n",
    "axs.plot(X, my, label='prediction')\n",
    "\n",
    "fig.legend();\n",
    "\n",
    "mlflow.log_figure(fig, 'myplot.png')"
   ]
  },
  {
   "cell_type": "code",
   "execution_count": null,
   "id": "0d1e4309",
   "metadata": {},
   "outputs": [],
   "source": []
  },
  {
   "cell_type": "markdown",
   "id": "eab1663c",
   "metadata": {},
   "source": [
    "## Loading model from the repo"
   ]
  },
  {
   "cell_type": "code",
   "execution_count": 11,
   "id": "f4d5aaa9",
   "metadata": {},
   "outputs": [],
   "source": [
    "mod = mlflow.sklearn.load_model('mlflow-artifacts:/2/72a5223cf23c48ae9a3326fbac8eb6c5/artifacts/model')"
   ]
  },
  {
   "cell_type": "code",
   "execution_count": 12,
   "id": "f37f404f",
   "metadata": {},
   "outputs": [
    {
     "data": {
      "text/plain": [
       "array([[0.81845867, 0.18154133],\n",
       "       [0.69409719, 0.30590281],\n",
       "       [0.53313875, 0.46686125],\n",
       "       [0.36497272, 0.63502728],\n",
       "       [0.22435935, 0.77564065],\n",
       "       [0.36497272, 0.63502728]])"
      ]
     },
     "execution_count": 12,
     "metadata": {},
     "output_type": "execute_result"
    }
   ],
   "source": [
    "mod.predict_proba(X)"
   ]
  },
  {
   "cell_type": "code",
   "execution_count": null,
   "id": "6254eabf",
   "metadata": {},
   "outputs": [],
   "source": []
  }
 ],
 "metadata": {
  "kernelspec": {
   "display_name": "Python 3 (ipykernel)",
   "language": "python",
   "name": "python3"
  },
  "language_info": {
   "codemirror_mode": {
    "name": "ipython",
    "version": 3
   },
   "file_extension": ".py",
   "mimetype": "text/x-python",
   "name": "python",
   "nbconvert_exporter": "python",
   "pygments_lexer": "ipython3",
   "version": "3.10.9"
  }
 },
 "nbformat": 4,
 "nbformat_minor": 5
}
