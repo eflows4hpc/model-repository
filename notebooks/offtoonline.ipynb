{
 "cells": [
  {
   "cell_type": "code",
   "execution_count": null,
   "id": "d8355ab6",
   "metadata": {},
   "outputs": [],
   "source": [
    "import mlflow\n",
    "import mlflow.pytorch"
   ]
  },
  {
   "cell_type": "code",
   "execution_count": null,
   "id": "9a70fa3f",
   "metadata": {},
   "outputs": [],
   "source": [
    "mlrun = './mlruns/0/'"
   ]
  },
  {
   "cell_type": "code",
   "execution_count": null,
   "id": "0a54775b",
   "metadata": {},
   "outputs": [],
   "source": [
    "! ls ./mlruns/0"
   ]
  },
  {
   "cell_type": "code",
   "execution_count": null,
   "id": "bbfb510d",
   "metadata": {},
   "outputs": [],
   "source": [
    "import yaml\n",
    "import os\n",
    "import glob"
   ]
  },
  {
   "cell_type": "code",
   "execution_count": null,
   "id": "fbad00df",
   "metadata": {},
   "outputs": [],
   "source": [
    "with open(os.path.join(mlrun, 'meta.yaml'), 'r') as f:\n",
    "    meta = yaml.safe_load(f)"
   ]
  },
  {
   "cell_type": "code",
   "execution_count": null,
   "id": "ff0e4479",
   "metadata": {},
   "outputs": [],
   "source": [
    "meta"
   ]
  },
  {
   "cell_type": "code",
   "execution_count": null,
   "id": "2414de79",
   "metadata": {},
   "outputs": [],
   "source": [
    "glob.glob(os.path.join(mlrun, '*'))"
   ]
  },
  {
   "cell_type": "code",
   "execution_count": null,
   "id": "9e9a3d62",
   "metadata": {},
   "outputs": [],
   "source": [
    "rundir = './mlruns/0/f63a82ab86524a7c8708310d61c54431/'"
   ]
  },
  {
   "cell_type": "code",
   "execution_count": null,
   "id": "8faf0893",
   "metadata": {},
   "outputs": [],
   "source": [
    "glob.glob(rundir)"
   ]
  },
  {
   "cell_type": "code",
   "execution_count": null,
   "id": "3d83d6b6",
   "metadata": {},
   "outputs": [],
   "source": [
    "with open(os.path.join(rundir, 'meta.yaml'), 'r') as f:\n",
    "    runmeta = yaml.safe_load(f)"
   ]
  },
  {
   "cell_type": "code",
   "execution_count": null,
   "id": "3df874fd",
   "metadata": {},
   "outputs": [],
   "source": [
    "runmeta"
   ]
  },
  {
   "cell_type": "code",
   "execution_count": null,
   "id": "fea99a4b",
   "metadata": {},
   "outputs": [],
   "source": [
    "! ls ./mlruns/0/f63a82ab86524a7c8708310d61c54431/artifacts/path/data/"
   ]
  },
  {
   "cell_type": "code",
   "execution_count": null,
   "id": "e1c3efdf",
   "metadata": {},
   "outputs": [],
   "source": [
    "def read_params(run_path: str):\n",
    "    params = dict()\n",
    "    for paramName in glob.glob(os.path.join(run_path, 'params/*')):\n",
    "        print(paramName)\n",
    "        with open(paramName, 'r') as f:\n",
    "            value = f.read()\n",
    "        params[os.path.basename(paramName)]=value\n",
    "    return params"
   ]
  },
  {
   "cell_type": "code",
   "execution_count": null,
   "id": "53e4b5fd",
   "metadata": {},
   "outputs": [],
   "source": [
    "read_params(run_path='./mlruns/0/f63a82ab86524a7c8708310d61c54431')"
   ]
  },
  {
   "cell_type": "markdown",
   "id": "59fdd8c7",
   "metadata": {},
   "source": [
    "## using client"
   ]
  },
  {
   "cell_type": "code",
   "execution_count": null,
   "id": "53c44927",
   "metadata": {},
   "outputs": [],
   "source": [
    "# get_run(run_id: str) \n",
    "from mlflow.client import MlflowClient"
   ]
  },
  {
   "cell_type": "code",
   "execution_count": 142,
   "id": "af88db48",
   "metadata": {},
   "outputs": [],
   "source": [
    "import mlflow.pytorch\n",
    "\n",
    "import mlflow.onnx"
   ]
  },
  {
   "cell_type": "code",
   "execution_count": null,
   "id": "98ad8f75",
   "metadata": {},
   "outputs": [],
   "source": [
    "local_client = MlflowClient()"
   ]
  },
  {
   "cell_type": "code",
   "execution_count": 85,
   "id": "7ff8a2aa",
   "metadata": {},
   "outputs": [],
   "source": [
    "experiment = local_client.get_experiment(experiment_id='0')"
   ]
  },
  {
   "cell_type": "code",
   "execution_count": 124,
   "id": "110239fa",
   "metadata": {},
   "outputs": [],
   "source": [
    "runs = local_client.search_runs(experiment_ids=[experiment.experiment_id]) #, order_by='start_time DESC'"
   ]
  },
  {
   "cell_type": "code",
   "execution_count": 125,
   "id": "f47e4018",
   "metadata": {},
   "outputs": [
    {
     "name": "stdout",
     "output_type": "stream",
     "text": [
      "e10f5cc7f8c44f079fd8214d4f14b840\n",
      "7d8add9e6d6b424e9aef34c3a8b84c56\n",
      "fba2fecd08e4444098a0a9b81c8759d7\n",
      "21fe09e3049a4ef491b32124041ba10d\n",
      "f63a82ab86524a7c8708310d61c54431\n",
      "943e0331574c496a8d4133039c547f57\n",
      "faad19c43a20438ba1d392957ac870be\n",
      "6f85e591e09a42dcbc225539359fca23\n",
      "a4217081db4d41c9b4c2deb2844f44a1\n",
      "481dcf3917214c4e8b2d5ff94244d168\n",
      "5eca6cb9aa0f452a8991f444a8dccc8f\n",
      "ae450efcf5114dc1b2fecbc129107c4b\n",
      "ea63cb7ec24d4ca0a63c3094dfa5c5e7\n",
      "2b2ab36e96c0465f8e00362e0d3f8d2e\n",
      "1e6c9f06033343a79b6c26c397fb3cba\n",
      "7f2fd88ec2f9435faca1bcc0e803ac92\n",
      "489269e357cc4ecb8a9411b2b9310f31\n",
      "e6a42d424a7640daac859de008c62490\n",
      "3d787a300d6a4cf7bd5bfee483baf2ba\n"
     ]
    }
   ],
   "source": [
    "for run in runs:\n",
    "    print(run.info.run_id)"
   ]
  },
  {
   "cell_type": "code",
   "execution_count": 126,
   "id": "61a9eaaa",
   "metadata": {},
   "outputs": [],
   "source": [
    "r = runs[0]"
   ]
  },
  {
   "cell_type": "code",
   "execution_count": 115,
   "id": "f57bc565",
   "metadata": {},
   "outputs": [],
   "source": [
    "# client.log_batch"
   ]
  },
  {
   "cell_type": "code",
   "execution_count": 129,
   "id": "1638693a",
   "metadata": {},
   "outputs": [
    {
     "data": {
      "text/plain": [
       "'e10f5cc7f8c44f079fd8214d4f14b840'"
      ]
     },
     "execution_count": 129,
     "metadata": {},
     "output_type": "execute_result"
    }
   ],
   "source": [
    "r.info.run_id"
   ]
  },
  {
   "cell_type": "code",
   "execution_count": 130,
   "id": "82c42d7f",
   "metadata": {},
   "outputs": [],
   "source": []
  },
  {
   "cell_type": "code",
   "execution_count": 131,
   "id": "d8f921fc",
   "metadata": {},
   "outputs": [
    {
     "data": {
      "text/plain": [
       "{}"
      ]
     },
     "execution_count": 131,
     "metadata": {},
     "output_type": "execute_result"
    }
   ],
   "source": [
    "r.data.params"
   ]
  },
  {
   "cell_type": "code",
   "execution_count": 132,
   "id": "2de70ef3",
   "metadata": {},
   "outputs": [
    {
     "data": {
      "text/plain": [
       "'file:///home/jj/git/modelrepository/notebooks/mlruns/0/e10f5cc7f8c44f079fd8214d4f14b840/artifacts'"
      ]
     },
     "execution_count": 132,
     "metadata": {},
     "output_type": "execute_result"
    }
   ],
   "source": [
    "r.info.artifact_uri"
   ]
  },
  {
   "cell_type": "code",
   "execution_count": 135,
   "id": "acdb0fe1",
   "metadata": {},
   "outputs": [
    {
     "name": "stdout",
     "output_type": "stream",
     "text": [
      "conda.yaml  data  MLmodel  python_env.yaml  requirements.txt\r\n"
     ]
    }
   ],
   "source": [
    "! ls /home/jj/git/modelrepository/notebooks/mlruns/0/e10f5cc7f8c44f079fd8214d4f14b840/artifacts/"
   ]
  },
  {
   "cell_type": "code",
   "execution_count": 89,
   "id": "d7d6e978",
   "metadata": {},
   "outputs": [],
   "source": [
    "# this does not work\n",
    "#local_client.get_registered_model(name='suave-cat-581')\n",
    "#local_client.search_registered_models()"
   ]
  },
  {
   "cell_type": "code",
   "execution_count": 158,
   "id": "9695e3cd",
   "metadata": {},
   "outputs": [
    {
     "data": {
      "text/plain": [
       "<Run: data=<RunData: metrics={}, params={}, tags={'mlflow.log-model.history': '[{\"run_id\": \"e10f5cc7f8c44f079fd8214d4f14b840\", '\n",
       "                             '\"artifact_path\": \"\", \"utc_time_created\": '\n",
       "                             '\"2022-11-02 10:03:15.314602\", \"flavors\": '\n",
       "                             '{\"pytorch\": {\"model_data\": \"data\", '\n",
       "                             '\"pytorch_version\": \"1.11.0+cu102\", \"code\": '\n",
       "                             'null}, \"python_function\": {\"pickle_module_name\": '\n",
       "                             '\"mlflow.pytorch.pickle_module\", \"loader_module\": '\n",
       "                             '\"mlflow.pytorch\", \"python_version\": \"3.10.6\", '\n",
       "                             '\"data\": \"data\", \"env\": \"conda.yaml\"}}, '\n",
       "                             '\"model_uuid\": '\n",
       "                             '\"f4cc3196224b482ca49f503c49485c98\", '\n",
       "                             '\"mlflow_version\": \"1.30.0\"}]',\n",
       " 'mlflow.runName': 'burly-turtle-743',\n",
       " 'mlflow.source.name': '/home/jj/anaconda3/envs/wheat/lib/python3.10/site-packages/ipykernel_launcher.py',\n",
       " 'mlflow.source.type': 'LOCAL',\n",
       " 'mlflow.user': 'jj'}>, info=<RunInfo: artifact_uri='file:///home/jj/git/modelrepository/notebooks/mlruns/0/e10f5cc7f8c44f079fd8214d4f14b840/artifacts', end_time=None, experiment_id='0', lifecycle_stage='active', run_id='e10f5cc7f8c44f079fd8214d4f14b840', run_name='burly-turtle-743', run_uuid='e10f5cc7f8c44f079fd8214d4f14b840', start_time=1667383395311, status='RUNNING', user_id='jj'>>"
      ]
     },
     "execution_count": 158,
     "metadata": {},
     "output_type": "execute_result"
    }
   ],
   "source": [
    "r.par"
   ]
  },
  {
   "cell_type": "code",
   "execution_count": 139,
   "id": "7ebc1410",
   "metadata": {},
   "outputs": [],
   "source": [
    "a_model = mlflow.pytorch.load_model(r.info.artifact_uri)"
   ]
  },
  {
   "cell_type": "code",
   "execution_count": 140,
   "id": "2f6ef534",
   "metadata": {},
   "outputs": [
    {
     "data": {
      "text/plain": [
       "SimpleNet(\n",
       "  (l1): Linear(in_features=784, out_features=10, bias=True)\n",
       ")"
      ]
     },
     "execution_count": 140,
     "metadata": {},
     "output_type": "execute_result"
    }
   ],
   "source": [
    "a_model"
   ]
  },
  {
   "cell_type": "code",
   "execution_count": 143,
   "id": "d3b8d72b",
   "metadata": {},
   "outputs": [],
   "source": []
  },
  {
   "cell_type": "code",
   "execution_count": 161,
   "id": "708f254f",
   "metadata": {},
   "outputs": [
    {
     "name": "stdout",
     "output_type": "stream",
     "text": [
      "Processing run: e10f5cc7f8c44f079fd8214d4f14b840\n",
      "Params: {}\n",
      "Got model path ['file:///home/jj/git/modelrepository/notebooks/mlruns/0/e10f5cc7f8c44f079fd8214d4f14b840/artifacts'] SimpleNet(\n",
      "  (l1): Linear(in_features=784, out_features=10, bias=True)\n",
      ")\n",
      "----------\n",
      "Processing run: 7d8add9e6d6b424e9aef34c3a8b84c56\n",
      "Got metric history for train_loss length=60000\n",
      "Params: {'param1': 'torch.Size([10])', 'param0': 'torch.Size([10, 784])'}\n",
      "----------\n",
      "Processing run: fba2fecd08e4444098a0a9b81c8759d7\n",
      "Got metric history for train_loss length=60000\n",
      "Params: {'param1': 'torch.Size([10])', 'param0': 'torch.Size([10, 784])'}\n",
      "----------\n",
      "Processing run: 21fe09e3049a4ef491b32124041ba10d\n",
      "Params: {'param1': 'torch.Size([10])', 'param0': 'torch.Size([10, 784])'}\n",
      "----------\n",
      "Processing run: f63a82ab86524a7c8708310d61c54431\n",
      "Got metric history for train_loss length=60000\n",
      "Params: {'param1': 'torch.Size([10])', 'param0': 'torch.Size([10, 784])'}\n",
      "----------\n",
      "Processing run: 943e0331574c496a8d4133039c547f57\n",
      "Got metric history for train_loss length=60000\n",
      "Params: {'param1': 'torch.Size([10])', 'param0': 'torch.Size([10, 784])'}\n",
      "----------\n",
      "Processing run: faad19c43a20438ba1d392957ac870be\n",
      "Params: {'param1': 'torch.Size([10])', 'param0': 'torch.Size([10, 784])'}\n",
      "----------\n",
      "Processing run: 6f85e591e09a42dcbc225539359fca23\n",
      "Params: {'param1': 'torch.Size([10])', 'param0': 'torch.Size([10, 784])'}\n",
      "----------\n",
      "Processing run: a4217081db4d41c9b4c2deb2844f44a1\n",
      "Params: {'param1': 'torch.Size([10])', 'param0': 'torch.Size([10, 784])'}\n",
      "----------\n",
      "Processing run: 481dcf3917214c4e8b2d5ff94244d168\n",
      "Params: {}\n",
      "----------\n",
      "Processing run: 5eca6cb9aa0f452a8991f444a8dccc8f\n",
      "Params: {}\n",
      "----------\n",
      "Processing run: ae450efcf5114dc1b2fecbc129107c4b\n",
      "Params: {}\n",
      "----------\n",
      "Processing run: ea63cb7ec24d4ca0a63c3094dfa5c5e7\n",
      "Params: {}\n",
      "----------\n",
      "Processing run: 2b2ab36e96c0465f8e00362e0d3f8d2e\n",
      "Params: {}\n",
      "----------\n",
      "Processing run: 1e6c9f06033343a79b6c26c397fb3cba\n",
      "Params: {}\n",
      "----------\n",
      "Processing run: 7f2fd88ec2f9435faca1bcc0e803ac92\n",
      "Params: {}\n",
      "----------\n",
      "Processing run: 489269e357cc4ecb8a9411b2b9310f31\n",
      "Params: {}\n",
      "----------\n",
      "Processing run: e6a42d424a7640daac859de008c62490\n",
      "Params: {}\n",
      "----------\n",
      "Processing run: 3d787a300d6a4cf7bd5bfee483baf2ba\n",
      "Params: {'name': 'resnet18.onnx', 'input_shape': '[3, 256, 256]'}\n",
      "----------\n"
     ]
    }
   ],
   "source": [
    "runs = local_client.search_runs(experiment_ids=[experiment.experiment_id])\n",
    "\n",
    "for run in runs:\n",
    "    models = []\n",
    "    print('Processing run:', run.info.run_id)\n",
    "    \n",
    "    \n",
    "    for metric in run.data.metrics:\n",
    "        metric_history = local_client.get_metric_history(run_id=run.info.run_id, key=metric)\n",
    "        print(f\"Got metric history for {metric} length={len(metric_history)}\")\n",
    "    \n",
    "    print('Params:', run.data.params)\n",
    "    \n",
    "    artifacts = local_client.list_artifacts(run_id=run.info.run_id)\n",
    "    models = [run.info.artifact_uri for art in artifacts if art.path.startswith('MLmodel')]\n",
    "    if any(models):\n",
    "        a_model = mlflow.pytorch.load_model(models[0])\n",
    "        print('Got model path', models, a_model)\n",
    "        \n",
    "    \n",
    "    print('-'*10)"
   ]
  },
  {
   "cell_type": "code",
   "execution_count": null,
   "id": "3ccff54b",
   "metadata": {},
   "outputs": [],
   "source": []
  }
 ],
 "metadata": {
  "kernelspec": {
   "display_name": "Python 3 (ipykernel)",
   "language": "python",
   "name": "python3"
  },
  "language_info": {
   "codemirror_mode": {
    "name": "ipython",
    "version": 3
   },
   "file_extension": ".py",
   "mimetype": "text/x-python",
   "name": "python",
   "nbconvert_exporter": "python",
   "pygments_lexer": "ipython3",
   "version": "3.10.6"
  }
 },
 "nbformat": 4,
 "nbformat_minor": 5
}
